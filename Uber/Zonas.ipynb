{
 "cells": [
  {
   "cell_type": "markdown",
   "metadata": {},
   "source": [
    "# Cuaderno características de zonas de movimiento"
   ]
  },
  {
   "cell_type": "code",
   "execution_count": 18,
   "metadata": {},
   "outputs": [],
   "source": [
    "import pandas as pd\n",
    "import geopandas as gpd\n",
    "import numpy as np\n",
    "import json\n",
    "import folium\n",
    "import vaex as vx"
   ]
  },
  {
   "cell_type": "markdown",
   "metadata": {},
   "source": [
    "Preparando datos"
   ]
  },
  {
   "cell_type": "code",
   "execution_count": 2,
   "metadata": {},
   "outputs": [
    {
     "name": "stderr",
     "output_type": "stream",
     "text": [
      "/home/edman/.local/lib/python3.6/site-packages/pyproj/crs/crs.py:53: FutureWarning: '+init=<authority>:<code>' syntax is deprecated. '<authority>:<code>' is the preferred initialization method. When making the change, be mindful of axis order changes: https://pyproj4.github.io/pyproj/stable/gotchas.html#axis-order-changes-in-proj-6\n",
      "  return _prepare_from_string(\" \".join(pjargs))\n",
      "/home/edman/.local/lib/python3.6/site-packages/IPython/core/interactiveshell.py:3063: DtypeWarning: Columns (7,20,21,22,23,24) have mixed types.Specify dtype option on import or set low_memory=False.\n",
      "  interactivity=interactivity, compiler=compiler, result=result)\n"
     ]
    }
   ],
   "source": [
    "#Leyendo GeoJson zonas de movimiento Uber\n",
    "zonas = gpd.read_file('Proyecto_wd/mexico_city_agebs.geojson')\n",
    "#Añadiendo centroides de zonas de movimiento\n",
    "gdf = gpd.GeoDataFrame.from_features(zonas)\n",
    "gdf['centroid_lon'] = gdf['geometry'].centroid.x\n",
    "gdf['centroid_lat'] = gdf['geometry'].centroid.y\n",
    "gdf.crs = {'init' :'epsg:4326'}\n",
    "#Normalizando datos del geojson \n",
    "gdf['CVE_MUN'] = gdf['CVE_MUN'].astype(np.int64)\n",
    "gdf['CVE_LOC'] = gdf['CVE_LOC'].astype(np.int64)\n",
    "gdf['CVE_ENT'] = gdf['CVE_ENT'].astype(np.int64)\n",
    "gdf['MOVEMENT_ID'] = gdf['MOVEMENT_ID'].astype(np.int64)\n",
    "#Leyendo y normalizando Base índice de marginación de CONAPO\n",
    "marginacion = pd.read_csv(\"Proyecto_wd/Base_marginacion_AGEB_00-10.csv\", encoding='latin-1')\n",
    "marginacion_ageb = marginacion[(marginacion.CVE_ENT == 9) | (marginacion.CVE_ENT == 15)]\n",
    "marginacion_ageb = marginacion_ageb[(marginacion_ageb.AÑO == 2010)]\n",
    "marginacion_ageb['AGEB'] = marginacion_ageb['CVE_AGEB'].astype(str).str[-4:]\n",
    "marginacion_ageb['MUN'] = marginacion_ageb['CVE_AGEB'].astype(str).str[2:-8].astype(np.int64)\n",
    "marginacion_ageb['LOC'] = marginacion_ageb['CVE_AGEB'].astype(str).str[5:-4].astype(np.int64)\n",
    "marginacion_ageb['ENT'] = marginacion_ageb['CVE_AGEB'].astype(str).str[:2].astype(np.int64)\n",
    "#Reorganizando datos marginación\n",
    "marginacion_urb = marginacion_ageb[['ENT','MUN','NOM_MUN','LOC','AGEB','GMU']]\n",
    "marginacion_urb.columns = ['CVE_ENT','CVE_MUN','NOM_MUN', 'CVE_LOC','CVE_AGEB','GMU']"
   ]
  },
  {
   "cell_type": "markdown",
   "metadata": {},
   "source": [
    "Fusionando bases Uber y CONAPO"
   ]
  },
  {
   "cell_type": "code",
   "execution_count": 3,
   "metadata": {},
   "outputs": [
    {
     "data": {
      "text/html": [
       "<div>\n",
       "<style scoped>\n",
       "    .dataframe tbody tr th:only-of-type {\n",
       "        vertical-align: middle;\n",
       "    }\n",
       "\n",
       "    .dataframe tbody tr th {\n",
       "        vertical-align: top;\n",
       "    }\n",
       "\n",
       "    .dataframe thead th {\n",
       "        text-align: right;\n",
       "    }\n",
       "</style>\n",
       "<table border=\"1\" class=\"dataframe\">\n",
       "  <thead>\n",
       "    <tr style=\"text-align: right;\">\n",
       "      <th></th>\n",
       "      <th>geometry</th>\n",
       "      <th>CVE_AGEB</th>\n",
       "      <th>CVE_ENT</th>\n",
       "      <th>CVE_LOC</th>\n",
       "      <th>CVE_MUN</th>\n",
       "      <th>DISPLAY_NAME</th>\n",
       "      <th>MOVEMENT_ID</th>\n",
       "      <th>centroid_lon</th>\n",
       "      <th>centroid_lat</th>\n",
       "      <th>NOM_MUN</th>\n",
       "      <th>GMU</th>\n",
       "    </tr>\n",
       "  </thead>\n",
       "  <tbody>\n",
       "    <tr>\n",
       "      <th>82</th>\n",
       "      <td>POLYGON ((-98.94275 19.30491, -98.94324 19.304...</td>\n",
       "      <td>0688</td>\n",
       "      <td>15</td>\n",
       "      <td>1</td>\n",
       "      <td>122</td>\n",
       "      <td>Movement Zone 83</td>\n",
       "      <td>83</td>\n",
       "      <td>-98.940113</td>\n",
       "      <td>19.306265</td>\n",
       "      <td>Valle de Chalco Solidaridad</td>\n",
       "      <td>4</td>\n",
       "    </tr>\n",
       "    <tr>\n",
       "      <th>83</th>\n",
       "      <td>POLYGON ((-98.94074 19.30872, -98.94133 19.309...</td>\n",
       "      <td>0692</td>\n",
       "      <td>15</td>\n",
       "      <td>1</td>\n",
       "      <td>122</td>\n",
       "      <td>Movement Zone 84</td>\n",
       "      <td>84</td>\n",
       "      <td>-98.938039</td>\n",
       "      <td>19.308805</td>\n",
       "      <td>Valle de Chalco Solidaridad</td>\n",
       "      <td>4</td>\n",
       "    </tr>\n",
       "    <tr>\n",
       "      <th>84</th>\n",
       "      <td>POLYGON ((-98.93386 19.30632, -98.93337 19.303...</td>\n",
       "      <td>0705</td>\n",
       "      <td>15</td>\n",
       "      <td>1</td>\n",
       "      <td>122</td>\n",
       "      <td>Movement Zone 85</td>\n",
       "      <td>85</td>\n",
       "      <td>-98.935420</td>\n",
       "      <td>19.306312</td>\n",
       "      <td>Valle de Chalco Solidaridad</td>\n",
       "      <td>4</td>\n",
       "    </tr>\n",
       "    <tr>\n",
       "      <th>85</th>\n",
       "      <td>POLYGON ((-98.91412 19.28480, -98.91395 19.284...</td>\n",
       "      <td>071A</td>\n",
       "      <td>15</td>\n",
       "      <td>1</td>\n",
       "      <td>122</td>\n",
       "      <td>Movement Zone 86</td>\n",
       "      <td>86</td>\n",
       "      <td>-98.916838</td>\n",
       "      <td>19.285507</td>\n",
       "      <td>Valle de Chalco Solidaridad</td>\n",
       "      <td>4</td>\n",
       "    </tr>\n",
       "    <tr>\n",
       "      <th>86</th>\n",
       "      <td>POLYGON ((-98.91550 19.28089, -98.91594 19.280...</td>\n",
       "      <td>0724</td>\n",
       "      <td>15</td>\n",
       "      <td>1</td>\n",
       "      <td>122</td>\n",
       "      <td>Movement Zone 87</td>\n",
       "      <td>87</td>\n",
       "      <td>-98.917208</td>\n",
       "      <td>19.281279</td>\n",
       "      <td>Valle de Chalco Solidaridad</td>\n",
       "      <td>4</td>\n",
       "    </tr>\n",
       "    <tr>\n",
       "      <th>...</th>\n",
       "      <td>...</td>\n",
       "      <td>...</td>\n",
       "      <td>...</td>\n",
       "      <td>...</td>\n",
       "      <td>...</td>\n",
       "      <td>...</td>\n",
       "      <td>...</td>\n",
       "      <td>...</td>\n",
       "      <td>...</td>\n",
       "      <td>...</td>\n",
       "      <td>...</td>\n",
       "    </tr>\n",
       "    <tr>\n",
       "      <th>5079</th>\n",
       "      <td>POLYGON ((-99.09151 19.41745, -99.09007 19.416...</td>\n",
       "      <td>1187</td>\n",
       "      <td>9</td>\n",
       "      <td>1</td>\n",
       "      <td>17</td>\n",
       "      <td>Movement Zone 5080</td>\n",
       "      <td>5080</td>\n",
       "      <td>-99.094223</td>\n",
       "      <td>19.414374</td>\n",
       "      <td>Venustiano Carranza</td>\n",
       "      <td>2</td>\n",
       "    </tr>\n",
       "    <tr>\n",
       "      <th>5080</th>\n",
       "      <td>POLYGON ((-99.10151 19.42064, -99.10194 19.419...</td>\n",
       "      <td>0988</td>\n",
       "      <td>9</td>\n",
       "      <td>1</td>\n",
       "      <td>17</td>\n",
       "      <td>Movement Zone 5081</td>\n",
       "      <td>5081</td>\n",
       "      <td>-99.102226</td>\n",
       "      <td>19.421245</td>\n",
       "      <td>Venustiano Carranza</td>\n",
       "      <td>1</td>\n",
       "    </tr>\n",
       "    <tr>\n",
       "      <th>5081</th>\n",
       "      <td>POLYGON ((-99.10650 19.42172, -99.10527 19.421...</td>\n",
       "      <td>0969</td>\n",
       "      <td>9</td>\n",
       "      <td>1</td>\n",
       "      <td>17</td>\n",
       "      <td>Movement Zone 5082</td>\n",
       "      <td>5082</td>\n",
       "      <td>-99.106460</td>\n",
       "      <td>19.420089</td>\n",
       "      <td>Venustiano Carranza</td>\n",
       "      <td>1</td>\n",
       "    </tr>\n",
       "    <tr>\n",
       "      <th>5082</th>\n",
       "      <td>POLYGON ((-99.10295 19.42001, -99.10327 19.419...</td>\n",
       "      <td>0973</td>\n",
       "      <td>9</td>\n",
       "      <td>1</td>\n",
       "      <td>17</td>\n",
       "      <td>Movement Zone 5083</td>\n",
       "      <td>5083</td>\n",
       "      <td>-99.104732</td>\n",
       "      <td>19.419484</td>\n",
       "      <td>Venustiano Carranza</td>\n",
       "      <td>1</td>\n",
       "    </tr>\n",
       "    <tr>\n",
       "      <th>5083</th>\n",
       "      <td>POLYGON ((-99.09614 19.42012, -99.09619 19.419...</td>\n",
       "      <td>1007</td>\n",
       "      <td>9</td>\n",
       "      <td>1</td>\n",
       "      <td>17</td>\n",
       "      <td>Movement Zone 5084</td>\n",
       "      <td>5084</td>\n",
       "      <td>-99.097130</td>\n",
       "      <td>19.422234</td>\n",
       "      <td>Venustiano Carranza</td>\n",
       "      <td>2</td>\n",
       "    </tr>\n",
       "  </tbody>\n",
       "</table>\n",
       "<p>4731 rows × 11 columns</p>\n",
       "</div>"
      ],
      "text/plain": [
       "                                               geometry CVE_AGEB  CVE_ENT  \\\n",
       "82    POLYGON ((-98.94275 19.30491, -98.94324 19.304...     0688       15   \n",
       "83    POLYGON ((-98.94074 19.30872, -98.94133 19.309...     0692       15   \n",
       "84    POLYGON ((-98.93386 19.30632, -98.93337 19.303...     0705       15   \n",
       "85    POLYGON ((-98.91412 19.28480, -98.91395 19.284...     071A       15   \n",
       "86    POLYGON ((-98.91550 19.28089, -98.91594 19.280...     0724       15   \n",
       "...                                                 ...      ...      ...   \n",
       "5079  POLYGON ((-99.09151 19.41745, -99.09007 19.416...     1187        9   \n",
       "5080  POLYGON ((-99.10151 19.42064, -99.10194 19.419...     0988        9   \n",
       "5081  POLYGON ((-99.10650 19.42172, -99.10527 19.421...     0969        9   \n",
       "5082  POLYGON ((-99.10295 19.42001, -99.10327 19.419...     0973        9   \n",
       "5083  POLYGON ((-99.09614 19.42012, -99.09619 19.419...     1007        9   \n",
       "\n",
       "      CVE_LOC  CVE_MUN        DISPLAY_NAME  MOVEMENT_ID  centroid_lon  \\\n",
       "82          1      122    Movement Zone 83           83    -98.940113   \n",
       "83          1      122    Movement Zone 84           84    -98.938039   \n",
       "84          1      122    Movement Zone 85           85    -98.935420   \n",
       "85          1      122    Movement Zone 86           86    -98.916838   \n",
       "86          1      122    Movement Zone 87           87    -98.917208   \n",
       "...       ...      ...                 ...          ...           ...   \n",
       "5079        1       17  Movement Zone 5080         5080    -99.094223   \n",
       "5080        1       17  Movement Zone 5081         5081    -99.102226   \n",
       "5081        1       17  Movement Zone 5082         5082    -99.106460   \n",
       "5082        1       17  Movement Zone 5083         5083    -99.104732   \n",
       "5083        1       17  Movement Zone 5084         5084    -99.097130   \n",
       "\n",
       "      centroid_lat                      NOM_MUN  GMU  \n",
       "82       19.306265  Valle de Chalco Solidaridad    4  \n",
       "83       19.308805  Valle de Chalco Solidaridad    4  \n",
       "84       19.306312  Valle de Chalco Solidaridad    4  \n",
       "85       19.285507  Valle de Chalco Solidaridad    4  \n",
       "86       19.281279  Valle de Chalco Solidaridad    4  \n",
       "...            ...                          ...  ...  \n",
       "5079     19.414374          Venustiano Carranza    2  \n",
       "5080     19.421245          Venustiano Carranza    1  \n",
       "5081     19.420089          Venustiano Carranza    1  \n",
       "5082     19.419484          Venustiano Carranza    1  \n",
       "5083     19.422234          Venustiano Carranza    2  \n",
       "\n",
       "[4731 rows x 11 columns]"
      ]
     },
     "execution_count": 3,
     "metadata": {},
     "output_type": "execute_result"
    }
   ],
   "source": [
    "zonas_GMU = pd.merge(gdf, marginacion_urb, on=['CVE_ENT','CVE_MUN','CVE_LOC','CVE_AGEB'], how='left')\n",
    "zonas_GMU = zonas_GMU.dropna()\n",
    "#Recodificando GMU a factores, para evitar problema en IMU\n",
    "mapping = {'Muy bajo': 1, 'Bajo': 2, 'Medio': 3, 'Alto':4, 'Muy alto':5}\n",
    "zonas_GMU = zonas_GMU.replace({'GMU':mapping})\n",
    "zonas_GMU"
   ]
  },
  {
   "cell_type": "markdown",
   "metadata": {},
   "source": [
    "Generando mapa"
   ]
  },
  {
   "cell_type": "code",
   "execution_count": 4,
   "metadata": {},
   "outputs": [],
   "source": [
    "m = folium.Map(location=[np.median(zonas_GMU['centroid_lat'].tolist()), np.median(zonas_GMU['centroid_lon'].tolist())], tiles='Stamen Toner', zoom_start=12)"
   ]
  },
  {
   "cell_type": "markdown",
   "metadata": {},
   "source": [
    "Añadiendo cloropleth "
   ]
  },
  {
   "cell_type": "code",
   "execution_count": 5,
   "metadata": {},
   "outputs": [
    {
     "name": "stderr",
     "output_type": "stream",
     "text": [
      "/home/edman/.local/lib/python3.6/site-packages/folium/folium.py:415: FutureWarning: The choropleth  method has been deprecated. Instead use the new Choropleth class, which has the same arguments. See the example notebook 'GeoJSON_and_choropleth' for how to do this.\n",
      "  FutureWarning\n"
     ]
    }
   ],
   "source": [
    "m.choropleth(\n",
    "    geo_data=zonas,\n",
    "    name='Zonas de movimiento marginación',\n",
    "    data=zonas_GMU,\n",
    "    columns=['DISPLAY_NAME', 'GMU'],\n",
    "    fill_color='BuPu',\n",
    "    key_on='feature.properties.DISPLAY_NAME',\n",
    "    legend_name='GMU'\n",
    ")"
   ]
  },
  {
   "cell_type": "markdown",
   "metadata": {},
   "source": [
    "Marcadores y control de capas. Guardando como HTML"
   ]
  },
  {
   "cell_type": "code",
   "execution_count": 6,
   "metadata": {},
   "outputs": [],
   "source": [
    "# Generando HTML, es demasiado pesado para el archivo\n",
    "#fg = folium.FeatureGroup(name='Info zonas')\n",
    "#for lat, lon, val, name in zip(zonas_GMU['centroid_lat'].tolist(), zonas_GMU['centroid_lon'].tolist(), zonas_GMU['IMU'].tolist(), zonas_GMU['DISPLAY_NAME'].tolist()):\n",
    "#    html = f\"\"\"\n",
    "#    <h2>{name}<\\h2><br>\n",
    "#    <h4>IMU: {int(round(val,0))} HUF <\\h4>\n",
    "#    \"\"\"\n",
    "#    fg.add_child(folium.Marker(location=[lat, lon], popup=html))\n",
    "\n",
    "#m.add_child(fg)\n",
    "\n",
    "folium.LayerControl().add_to(m)\n",
    "\n",
    "m.save('Proyecto_wd/mapa.html')\n"
   ]
  },
  {
   "cell_type": "markdown",
   "metadata": {},
   "source": [
    "Abriendo base de tiempos promedio de viajes de Uber para el 2019"
   ]
  },
  {
   "cell_type": "code",
   "execution_count": 19,
   "metadata": {},
   "outputs": [],
   "source": [
    "uber_2019 = vx.open('uber_2019.hdf5')\n",
    "uber_2019_mayo = uber_2019[uber_2019.month == 5]\n",
    "#uber_2019_mayo = uber_2019_mayo['sourceid','mean_travel_time']\n",
    "uber_2019_mayo = uber_2019_mayo['dstid','mean_travel_time']"
   ]
  },
  {
   "cell_type": "code",
   "execution_count": 20,
   "metadata": {},
   "outputs": [],
   "source": [
    "uber_2019_mayo = uber_2019_mayo.to_pandas_df()\n",
    "uber_2019_mayo.columns = ['MOVEMENT_ID', 'median_travel']\n",
    "uber_2019_mayo = uber_2019_mayo.groupby(['MOVEMENT_ID'])[['median_travel']].median()"
   ]
  },
  {
   "cell_type": "code",
   "execution_count": 21,
   "metadata": {},
   "outputs": [],
   "source": [
    "zonas_viaje = pd.merge(zonas_GMU, uber_2019_mayo, on=['MOVEMENT_ID'], how='left')\n",
    "GMU_1_viaje = zonas_viaje[(zonas_viaje.GMU == 1)]\n",
    "GMU_5_viaje = zonas_viaje[(zonas_viaje.GMU == 5)]"
   ]
  },
  {
   "cell_type": "markdown",
   "metadata": {},
   "source": [
    "Nuevo mapa de zonas de movilidad filtradas"
   ]
  },
  {
   "cell_type": "code",
   "execution_count": 93,
   "metadata": {},
   "outputs": [],
   "source": [
    "e = folium.Map(location=[np.median(GMU_1_viaje['centroid_lat'].tolist()), np.median(GMU_1_viaje['centroid_lon'].tolist())], tiles='Stamen Toner', zoom_start=12)"
   ]
  },
  {
   "cell_type": "code",
   "execution_count": 97,
   "metadata": {},
   "outputs": [
    {
     "name": "stderr",
     "output_type": "stream",
     "text": [
      "/home/edman/.local/lib/python3.6/site-packages/folium/folium.py:415: FutureWarning: The choropleth  method has been deprecated. Instead use the new Choropleth class, which has the same arguments. See the example notebook 'GeoJSON_and_choropleth' for how to do this.\n",
      "  FutureWarning\n"
     ]
    }
   ],
   "source": [
    "e.choropleth(\n",
    "    geo_data=GMU_1_viaje,\n",
    "    name='Medianas de viajes promedio',\n",
    "    data=GMU_1_viaje,\n",
    "    columns=['DISPLAY_NAME', 'median_travel'],\n",
    "    fill_color='YlGn',\n",
    "    key_on='feature.properties.DISPLAY_NAME',\n",
    "    legend_name='median_travel'\n",
    ")\n",
    "\n",
    "\n",
    "folium.LayerControl().add_to(e)\n",
    "\n",
    "e.save('Proyecto_wd/marginacion_muybaja.html')"
   ]
  },
  {
   "cell_type": "code",
   "execution_count": 95,
   "metadata": {},
   "outputs": [],
   "source": [
    "f = folium.Map(location=[np.median(GMU_5_viaje['centroid_lat'].tolist()), np.median(GMU_5_viaje['centroid_lon'].tolist())], tiles='Stamen Toner', zoom_start=12)"
   ]
  },
  {
   "cell_type": "code",
   "execution_count": 96,
   "metadata": {},
   "outputs": [
    {
     "name": "stderr",
     "output_type": "stream",
     "text": [
      "/home/edman/.local/lib/python3.6/site-packages/folium/folium.py:415: FutureWarning: The choropleth  method has been deprecated. Instead use the new Choropleth class, which has the same arguments. See the example notebook 'GeoJSON_and_choropleth' for how to do this.\n",
      "  FutureWarning\n"
     ]
    }
   ],
   "source": [
    "f.choropleth(\n",
    "    geo_data=GMU_5_viaje,\n",
    "    name='Medianas de viajes promedio',\n",
    "    data=GMU_5_viaje,\n",
    "    columns=['DISPLAY_NAME', 'median_travel'],\n",
    "    fill_color='YlGn',\n",
    "    key_on='feature.properties.DISPLAY_NAME',\n",
    "    legend_name='median_travel'\n",
    ")\n",
    "\n",
    "\n",
    "folium.LayerControl().add_to(f)\n",
    "\n",
    "f.save('Proyecto_wd/marginacion_muyalta.html')"
   ]
  },
  {
   "cell_type": "code",
   "execution_count": 22,
   "metadata": {},
   "outputs": [],
   "source": [
    "g = folium.Map(location=[np.median(zonas_viaje['centroid_lat'].tolist()), np.median(zonas_viaje['centroid_lon'].tolist())], tiles='Stamen Toner', zoom_start=12)"
   ]
  },
  {
   "cell_type": "code",
   "execution_count": 23,
   "metadata": {},
   "outputs": [
    {
     "name": "stderr",
     "output_type": "stream",
     "text": [
      "/home/edman/.local/lib/python3.6/site-packages/folium/folium.py:415: FutureWarning: The choropleth  method has been deprecated. Instead use the new Choropleth class, which has the same arguments. See the example notebook 'GeoJSON_and_choropleth' for how to do this.\n",
      "  FutureWarning\n"
     ]
    }
   ],
   "source": [
    "g.choropleth(\n",
    "    geo_data=zonas_viaje,\n",
    "    name='Medianas de viajes promedio',\n",
    "    data=zonas_viaje,\n",
    "    columns=['DISPLAY_NAME', 'median_travel'],\n",
    "    fill_color='YlGn',\n",
    "    key_on='feature.properties.DISPLAY_NAME',\n",
    "    legend_name='median_travel'\n",
    ")\n",
    "\n",
    "\n",
    "folium.LayerControl().add_to(g)\n",
    "\n",
    "g.save('Proyecto_wd/movimiento.html')"
   ]
  }
 ],
 "metadata": {
  "kernelspec": {
   "display_name": "Python 3",
   "language": "python",
   "name": "python3"
  },
  "language_info": {
   "codemirror_mode": {
    "name": "ipython",
    "version": 3
   },
   "file_extension": ".py",
   "mimetype": "text/x-python",
   "name": "python",
   "nbconvert_exporter": "python",
   "pygments_lexer": "ipython3",
   "version": "3.6.9"
  }
 },
 "nbformat": 4,
 "nbformat_minor": 4
}
