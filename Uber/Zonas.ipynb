{
 "cells": [
  {
   "cell_type": "markdown",
   "metadata": {},
   "source": [
    "# Cuaderno características de zonas de movimiento"
   ]
  },
  {
   "cell_type": "code",
   "execution_count": 1,
   "metadata": {},
   "outputs": [],
   "source": [
    "import pandas as pd\n",
    "import geopandas as gpd\n",
    "import numpy as np\n",
    "import json\n",
    "import folium\n",
    "import vaex as vx"
   ]
  },
  {
   "cell_type": "markdown",
   "metadata": {},
   "source": [
    "Preparando datos"
   ]
  },
  {
   "cell_type": "code",
   "execution_count": 2,
   "metadata": {},
   "outputs": [
    {
     "name": "stderr",
     "output_type": "stream",
     "text": [
      "/home/edman/.local/lib/python3.6/site-packages/pyproj/crs/crs.py:53: FutureWarning: '+init=<authority>:<code>' syntax is deprecated. '<authority>:<code>' is the preferred initialization method. When making the change, be mindful of axis order changes: https://pyproj4.github.io/pyproj/stable/gotchas.html#axis-order-changes-in-proj-6\n",
      "  return _prepare_from_string(\" \".join(pjargs))\n",
      "/home/edman/.local/lib/python3.6/site-packages/IPython/core/interactiveshell.py:3063: DtypeWarning: Columns (7,20,21,22,23,24) have mixed types.Specify dtype option on import or set low_memory=False.\n",
      "  interactivity=interactivity, compiler=compiler, result=result)\n"
     ]
    }
   ],
   "source": [
    "#Leyendo GeoJson zonas de movimiento Uber\n",
    "zonas = gpd.read_file('Proyecto_wd/mexico_city_agebs.geojson')\n",
    "#Añadiendo centroides de zonas de movimiento\n",
    "gdf = gpd.GeoDataFrame.from_features(zonas)\n",
    "gdf['centroid_lon'] = gdf['geometry'].centroid.x\n",
    "gdf['centroid_lat'] = gdf['geometry'].centroid.y\n",
    "gdf.crs = {'init' :'epsg:4326'}\n",
    "#Normalizando datos del geojson \n",
    "gdf['CVE_MUN'] = gdf['CVE_MUN'].astype(np.int64)\n",
    "gdf['CVE_LOC'] = gdf['CVE_LOC'].astype(np.int64)\n",
    "gdf['CVE_ENT'] = gdf['CVE_ENT'].astype(np.int64)\n",
    "gdf['MOVEMENT_ID'] = gdf['MOVEMENT_ID'].astype(np.int64)\n",
    "#Leyendo y normalizando Base índice de marginación de CONAPO\n",
    "marginacion = pd.read_csv(\"Proyecto_wd/Base_marginacion_AGEB_00-10.csv\", encoding='latin-1')\n",
    "marginacion_ageb = marginacion[(marginacion.CVE_ENT == 9) | (marginacion.CVE_ENT == 15)]\n",
    "marginacion_ageb = marginacion_ageb[(marginacion_ageb.AÑO == 2010)]\n",
    "marginacion_ageb['AGEB'] = marginacion_ageb['CVE_AGEB'].astype(str).str[-4:]\n",
    "marginacion_ageb['MUN'] = marginacion_ageb['CVE_AGEB'].astype(str).str[2:-8].astype(np.int64)\n",
    "marginacion_ageb['LOC'] = marginacion_ageb['CVE_AGEB'].astype(str).str[5:-4].astype(np.int64)\n",
    "marginacion_ageb['ENT'] = marginacion_ageb['CVE_AGEB'].astype(str).str[:2].astype(np.int64)\n",
    "#Reorganizando datos marginación\n",
    "marginacion_urb = marginacion_ageb[['ENT','MUN','NOM_MUN','LOC','AGEB','GMU']]\n",
    "marginacion_urb.columns = ['CVE_ENT','CVE_MUN','NOM_MUN', 'CVE_LOC','CVE_AGEB','GMU']"
   ]
  },
  {
   "cell_type": "markdown",
   "metadata": {},
   "source": [
    "Fusionando bases Uber y CONAPO"
   ]
  },
  {
   "cell_type": "code",
   "execution_count": 8,
   "metadata": {},
   "outputs": [],
   "source": [
    "zonas_GMU = pd.merge(gdf, marginacion_urb, on=['CVE_ENT','CVE_MUN','CVE_LOC','CVE_AGEB'], how='left')\n",
    "zonas_GMU = zonas_GMU.dropna()\n",
    "#Recodificando GMU a factores, para evitar problema en IMU\n",
    "mapping = {'Muy bajo': 1, 'Bajo': 2, 'Medio': 3, 'Alto':4, 'Muy alto':5}\n",
    "zonas_GMU = zonas_GMU.replace({'GMU':mapping})\n",
    "##Exportando a Geojson\n",
    "#zonas_GMU.to_file(\"zonas_GMU.json\", driver=\"GeoJSON\")"
   ]
  },
  {
   "cell_type": "markdown",
   "metadata": {},
   "source": [
    "Generando mapa"
   ]
  },
  {
   "cell_type": "code",
   "execution_count": 4,
   "metadata": {},
   "outputs": [],
   "source": [
    "m = folium.Map(location=[np.median(zonas_GMU['centroid_lat'].tolist()), np.median(zonas_GMU['centroid_lon'].tolist())], tiles='Stamen Toner', zoom_start=12)"
   ]
  },
  {
   "cell_type": "markdown",
   "metadata": {},
   "source": [
    "Añadiendo cloropleth "
   ]
  },
  {
   "cell_type": "code",
   "execution_count": 5,
   "metadata": {},
   "outputs": [
    {
     "name": "stderr",
     "output_type": "stream",
     "text": [
      "/home/edman/.local/lib/python3.6/site-packages/folium/folium.py:415: FutureWarning: The choropleth  method has been deprecated. Instead use the new Choropleth class, which has the same arguments. See the example notebook 'GeoJSON_and_choropleth' for how to do this.\n",
      "  FutureWarning\n"
     ]
    }
   ],
   "source": [
    "m.choropleth(\n",
    "    geo_data=zonas,\n",
    "    name='Zonas de movimiento marginación',\n",
    "    data=zonas_GMU,\n",
    "    columns=['DISPLAY_NAME', 'GMU'],\n",
    "    fill_color='BuPu',\n",
    "    key_on='feature.properties.DISPLAY_NAME',\n",
    "    legend_name='GMU'\n",
    ")"
   ]
  },
  {
   "cell_type": "markdown",
   "metadata": {},
   "source": [
    "Marcadores y control de capas. Guardando como HTML"
   ]
  },
  {
   "cell_type": "code",
   "execution_count": 6,
   "metadata": {},
   "outputs": [],
   "source": [
    "# Generando HTML, es demasiado pesado para el archivo\n",
    "#fg = folium.FeatureGroup(name='Info zonas')\n",
    "#for lat, lon, val, name in zip(zonas_GMU['centroid_lat'].tolist(), zonas_GMU['centroid_lon'].tolist(), zonas_GMU['IMU'].tolist(), zonas_GMU['DISPLAY_NAME'].tolist()):\n",
    "#    html = f\"\"\"\n",
    "#    <h2>{name}<\\h2><br>\n",
    "#    <h4>IMU: {int(round(val,0))} HUF <\\h4>\n",
    "#    \"\"\"\n",
    "#    fg.add_child(folium.Marker(location=[lat, lon], popup=html))\n",
    "\n",
    "#m.add_child(fg)\n",
    "\n",
    "folium.LayerControl().add_to(m)\n",
    "\n",
    "m.save('Proyecto_wd/mapa.html')\n"
   ]
  },
  {
   "cell_type": "markdown",
   "metadata": {},
   "source": [
    "Abriendo base de tiempos promedio de viajes de Uber para el 2019"
   ]
  },
  {
   "cell_type": "code",
   "execution_count": 5,
   "metadata": {},
   "outputs": [],
   "source": [
    "uber_2019 = vx.open('uber_2019.hdf5')\n",
    "uber_2019_mayo = uber_2019[uber_2019.month == 5]\n",
    "uber_2019_mayo = uber_2019_mayo['sourceid','mean_travel_time']\n",
    "#uber_2019_mayo = uber_2019_mayo['dstid','mean_travel_time']#dstid"
   ]
  },
  {
   "cell_type": "code",
   "execution_count": 6,
   "metadata": {},
   "outputs": [],
   "source": [
    "uber_2019_mayo = uber_2019_mayo.to_pandas_df()\n",
    "uber_2019_mayo.columns = ['MOVEMENT_ID', 'median_travel']\n",
    "uber_2019_mayo = uber_2019_mayo.groupby(['MOVEMENT_ID'])[['median_travel']].median()"
   ]
  },
  {
   "cell_type": "code",
   "execution_count": 9,
   "metadata": {},
   "outputs": [],
   "source": [
    "zonas_viaje = pd.merge(zonas_GMU, uber_2019_mayo, on=['MOVEMENT_ID'], how='left')\n",
    "#zonas_viaje.to_file(\"zonas_viaje.json\", driver=\"GeoJSON\")\n",
    "##GMU\n",
    "GMU_1_viaje = zonas_viaje[(zonas_viaje.GMU == 1)]\n",
    "GMU_5_viaje = zonas_viaje[(zonas_viaje.GMU == 5)]"
   ]
  },
  {
   "cell_type": "markdown",
   "metadata": {},
   "source": [
    "Nuevo mapa de zonas de movilidad filtradas"
   ]
  },
  {
   "cell_type": "code",
   "execution_count": 93,
   "metadata": {},
   "outputs": [],
   "source": [
    "e = folium.Map(location=[np.median(GMU_1_viaje['centroid_lat'].tolist()), np.median(GMU_1_viaje['centroid_lon'].tolist())], tiles='Stamen Toner', zoom_start=12)"
   ]
  },
  {
   "cell_type": "code",
   "execution_count": 97,
   "metadata": {},
   "outputs": [
    {
     "name": "stderr",
     "output_type": "stream",
     "text": [
      "/home/edman/.local/lib/python3.6/site-packages/folium/folium.py:415: FutureWarning: The choropleth  method has been deprecated. Instead use the new Choropleth class, which has the same arguments. See the example notebook 'GeoJSON_and_choropleth' for how to do this.\n",
      "  FutureWarning\n"
     ]
    }
   ],
   "source": [
    "e.choropleth(\n",
    "    geo_data=GMU_1_viaje,\n",
    "    name='Medianas de viajes promedio',\n",
    "    data=GMU_1_viaje,\n",
    "    columns=['DISPLAY_NAME', 'median_travel'],\n",
    "    fill_color='YlGn',\n",
    "    key_on='feature.properties.DISPLAY_NAME',\n",
    "    legend_name='median_travel'\n",
    ")\n",
    "\n",
    "\n",
    "folium.LayerControl().add_to(e)\n",
    "\n",
    "e.save('Proyecto_wd/marginacion_muybaja.html')"
   ]
  },
  {
   "cell_type": "code",
   "execution_count": 95,
   "metadata": {},
   "outputs": [],
   "source": [
    "f = folium.Map(location=[np.median(GMU_5_viaje['centroid_lat'].tolist()), np.median(GMU_5_viaje['centroid_lon'].tolist())], tiles='Stamen Toner', zoom_start=12)"
   ]
  },
  {
   "cell_type": "code",
   "execution_count": 96,
   "metadata": {},
   "outputs": [
    {
     "name": "stderr",
     "output_type": "stream",
     "text": [
      "/home/edman/.local/lib/python3.6/site-packages/folium/folium.py:415: FutureWarning: The choropleth  method has been deprecated. Instead use the new Choropleth class, which has the same arguments. See the example notebook 'GeoJSON_and_choropleth' for how to do this.\n",
      "  FutureWarning\n"
     ]
    }
   ],
   "source": [
    "f.choropleth(\n",
    "    geo_data=GMU_5_viaje,\n",
    "    name='Medianas de viajes promedio',\n",
    "    data=GMU_5_viaje,\n",
    "    columns=['DISPLAY_NAME', 'median_travel'],\n",
    "    fill_color='YlGn',\n",
    "    key_on='feature.properties.DISPLAY_NAME',\n",
    "    legend_name='median_travel'\n",
    ")\n",
    "\n",
    "\n",
    "folium.LayerControl().add_to(f)\n",
    "\n",
    "f.save('Proyecto_wd/marginacion_muyalta.html')"
   ]
  },
  {
   "cell_type": "code",
   "execution_count": 22,
   "metadata": {},
   "outputs": [],
   "source": [
    "g = folium.Map(location=[np.median(zonas_viaje['centroid_lat'].tolist()), np.median(zonas_viaje['centroid_lon'].tolist())], tiles='Stamen Toner', zoom_start=12)"
   ]
  },
  {
   "cell_type": "code",
   "execution_count": 23,
   "metadata": {},
   "outputs": [
    {
     "name": "stderr",
     "output_type": "stream",
     "text": [
      "/home/edman/.local/lib/python3.6/site-packages/folium/folium.py:415: FutureWarning: The choropleth  method has been deprecated. Instead use the new Choropleth class, which has the same arguments. See the example notebook 'GeoJSON_and_choropleth' for how to do this.\n",
      "  FutureWarning\n"
     ]
    }
   ],
   "source": [
    "g.choropleth(\n",
    "    geo_data=zonas_viaje,\n",
    "    name='Medianas de viajes promedio',\n",
    "    data=zonas_viaje,\n",
    "    columns=['DISPLAY_NAME', 'median_travel'],\n",
    "    fill_color='YlGn',\n",
    "    key_on='feature.properties.DISPLAY_NAME',\n",
    "    legend_name='median_travel'\n",
    ")\n",
    "\n",
    "\n",
    "folium.LayerControl().add_to(g)\n",
    "\n",
    "g.save('Proyecto_wd/movimiento.html')"
   ]
  }
 ],
 "metadata": {
  "kernelspec": {
   "display_name": "Python 3",
   "language": "python",
   "name": "python3"
  },
  "language_info": {
   "codemirror_mode": {
    "name": "ipython",
    "version": 3
   },
   "file_extension": ".py",
   "mimetype": "text/x-python",
   "name": "python",
   "nbconvert_exporter": "python",
   "pygments_lexer": "ipython3",
   "version": "3.6.9"
  }
 },
 "nbformat": 4,
 "nbformat_minor": 4
}
