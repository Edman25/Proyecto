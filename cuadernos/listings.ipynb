{
 "cells": [
  {
   "cell_type": "markdown",
   "metadata": {},
   "source": [
    "# Airbnb"
   ]
  },
  {
   "cell_type": "code",
   "execution_count": 2,
   "metadata": {},
   "outputs": [],
   "source": [
    "import pandas as pd\n",
    "import geopandas as gpd\n",
    "import numpy as np\n",
    "import json\n",
    "import folium\n",
    "import vaex as vx\n",
    "import csv"
   ]
  },
  {
   "cell_type": "code",
   "execution_count": 3,
   "metadata": {},
   "outputs": [
    {
     "name": "stderr",
     "output_type": "stream",
     "text": [
      "/home/edman/.local/lib/python3.6/site-packages/pyproj/crs/crs.py:53: FutureWarning: '+init=<authority>:<code>' syntax is deprecated. '<authority>:<code>' is the preferred initialization method. When making the change, be mindful of axis order changes: https://pyproj4.github.io/pyproj/stable/gotchas.html#axis-order-changes-in-proj-6\n",
      "  return _prepare_from_string(\" \".join(pjargs))\n"
     ]
    }
   ],
   "source": [
    "#\n",
    "zonas = gpd.read_file('Proyecto_wd/mexico_city_agebs.geojson')\n",
    "#Añadiendo centroides de zonas de movimiento\n",
    "zonas_cdmx = gpd.GeoDataFrame.from_features(zonas)\n",
    "zonas_cdmx['centroid_lon'] = zonas_cdmx['geometry'].centroid.x\n",
    "zonas_cdmx['centroid_lat'] = zonas_cdmx['geometry'].centroid.y\n",
    "zonas_cdmx.crs = {'init' :'epsg:4326'}\n",
    "\n",
    "#Normalizando datos del geojson \n",
    "zonas_cdmx['CVE_MUN'] = zonas_cdmx['CVE_MUN'].astype(np.int64)\n",
    "zonas_cdmx['CVE_LOC'] = zonas_cdmx['CVE_LOC'].astype(np.int64)\n",
    "zonas_cdmx['CVE_ENT'] = zonas_cdmx['CVE_ENT'].astype(np.int64)\n",
    "zonas_cdmx['MOVEMENT_ID'] = zonas_cdmx['MOVEMENT_ID'].astype(np.int64)\n",
    "\n",
    "zonas_cdmx = zonas_cdmx[(zonas_cdmx.CVE_ENT == 9)]\n",
    "\n",
    "zonas_cdmx.to_file(\"zonas_cdmx.json\", driver=\"GeoJSON\")# Archivo exportado a geojson\n"
   ]
  },
  {
   "cell_type": "code",
   "execution_count": 5,
   "metadata": {},
   "outputs": [
    {
     "name": "stderr",
     "output_type": "stream",
     "text": [
      "/home/edman/.local/lib/python3.6/site-packages/pyproj/crs/crs.py:53: FutureWarning: '+init=<authority>:<code>' syntax is deprecated. '<authority>:<code>' is the preferred initialization method. When making the change, be mindful of axis order changes: https://pyproj4.github.io/pyproj/stable/gotchas.html#axis-order-changes-in-proj-6\n",
      "  return _prepare_from_string(\" \".join(pjargs))\n"
     ]
    }
   ],
   "source": [
    "#Dec 2019\n",
    "\n",
    "listings_pre = pd.read_csv('Airbnb/listings_dec_2019.csv')\n",
    "gdf_listings_pre = gpd.GeoDataFrame(listings_pre, geometry=gpd.points_from_xy(listings_pre.longitude, listings_pre.latitude))\n",
    "gdf_listings_pre.crs = {'init' :'epsg:4326'}\n",
    "gdf_listings_pre.to_file(\"listings_dec_2019.json\", driver=\"GeoJSON\")# Archivo exportado a geojson\n",
    "\n",
    "#Sacando archivo de conteo de listings dec 2019\n",
    "\n",
    "sjoined_listings_pre = gpd.sjoin(gdf_listings_pre, zonas_cdmx, op='within')\n",
    "\n",
    "grouped_pre = sjoined_listings_pre.groupby('CVE_AGEB').size()\n",
    "df_pre = grouped_pre.to_frame().reset_index()\n",
    "df_pre.columns = ['CVE_AGEB', 'listings_count']\n",
    "\n",
    "merged_areas_pre = zonas_cdmx.merge(df_pre, on='CVE_AGEB', how='outer')\n",
    "\n",
    "merged_areas_pre.to_file(\"listings_count_dec_2019.json\", driver=\"GeoJSON\")\n"
   ]
  },
  {
   "cell_type": "code",
   "execution_count": 6,
   "metadata": {},
   "outputs": [
    {
     "name": "stderr",
     "output_type": "stream",
     "text": [
      "/home/edman/.local/lib/python3.6/site-packages/pyproj/crs/crs.py:53: FutureWarning: '+init=<authority>:<code>' syntax is deprecated. '<authority>:<code>' is the preferred initialization method. When making the change, be mindful of axis order changes: https://pyproj4.github.io/pyproj/stable/gotchas.html#axis-order-changes-in-proj-6\n",
      "  return _prepare_from_string(\" \".join(pjargs))\n"
     ]
    }
   ],
   "source": [
    "#Sacando archivo de conteo de listings en marzo 2020\n",
    "\n",
    "listings = pd.read_csv('Airbnb/listings_mar_2020.csv')\n",
    "gdf_listings = gpd.GeoDataFrame(listings, geometry=gpd.points_from_xy(listings.longitude, listings.latitude))\n",
    "gdf_listings.crs = {'init' :'epsg:4326'}\n",
    "gdf_listings.to_file(\"listings_mar_2020.json\", driver=\"GeoJSON\")# Archivo exportado a geojson\n",
    "\n",
    "sjoined_listings = gpd.sjoin(gdf_listings, zonas_cdmx, op='within')\n",
    "\n",
    "grouped = sjoined_listings.groupby('CVE_AGEB').size()\n",
    "df = grouped.to_frame().reset_index()\n",
    "df.columns = ['CVE_AGEB', 'listings_count']\n",
    "\n",
    "merged_areas = zonas_cdmx.merge(df, on='CVE_AGEB', how='outer')\n",
    "\n",
    "merged_areas.to_file(\"listings_count_mar_2020.json\", driver=\"GeoJSON\")"
   ]
  },
  {
   "cell_type": "code",
   "execution_count": 8,
   "metadata": {},
   "outputs": [],
   "source": [
    "#Conteo de listings a nivel delegación para marzo 2020\n",
    "\n",
    "grouped_mun = sjoined_listings.groupby('CVE_MUN').size()\n",
    "df_mun = grouped_mun.to_frame().reset_index()\n",
    "df_mun.columns = ['CVE_MUN', 'listings_count']\n",
    "\n",
    "merged_areas_mun = zonas_cdmx.merge(df_mun, on='CVE_MUN', how='outer')\n",
    "\n",
    "merged_areas_mun.to_file(\"listings_count_mar_2020_del.json\", driver=\"GeoJSON\")"
   ]
  },
  {
   "cell_type": "code",
   "execution_count": 7,
   "metadata": {},
   "outputs": [
    {
     "name": "stderr",
     "output_type": "stream",
     "text": [
      "/home/edman/.local/lib/python3.6/site-packages/pyproj/crs/crs.py:53: FutureWarning: '+init=<authority>:<code>' syntax is deprecated. '<authority>:<code>' is the preferred initialization method. When making the change, be mindful of axis order changes: https://pyproj4.github.io/pyproj/stable/gotchas.html#axis-order-changes-in-proj-6\n",
      "  return _prepare_from_string(\" \".join(pjargs))\n"
     ]
    }
   ],
   "source": [
    "#Sacando archivo de conteo de listings en mayo 2020\n",
    "\n",
    "#Listings mayo 2020\n",
    "listings_post = pd.read_csv('Airbnb/listings_may_2020.csv')\n",
    "gdf_listings_post = gpd.GeoDataFrame(listings_post, geometry=gpd.points_from_xy(listings_post.longitude, listings_post.latitude))\n",
    "gdf_listings_post.crs = {'init' :'epsg:4326'}\n",
    "gdf_listings_post.to_file(\"listings_may_2020.json\", driver=\"GeoJSON\")# Archivo exportado a geojson\n",
    "\n",
    "sjoined_listings_post = gpd.sjoin(gdf_listings_post, zonas_cdmx, op='within')\n",
    "\n",
    "grouped_post = sjoined_listings_post.groupby('CVE_AGEB').size()\n",
    "df_post = grouped_post.to_frame().reset_index()\n",
    "df_post.columns = ['CVE_AGEB', 'listings_count']\n",
    "\n",
    "merged_areas_post = zonas_cdmx.merge(df_post, on='CVE_AGEB', how='outer')\n",
    "\n",
    "merged_areas_post.to_file(\"listings_count_may_2020.json\", driver=\"GeoJSON\")"
   ]
  }
 ],
 "metadata": {
  "kernelspec": {
   "display_name": "Python 3",
   "language": "python",
   "name": "python3"
  },
  "language_info": {
   "codemirror_mode": {
    "name": "ipython",
    "version": 3
   },
   "file_extension": ".py",
   "mimetype": "text/x-python",
   "name": "python",
   "nbconvert_exporter": "python",
   "pygments_lexer": "ipython3",
   "version": "3.6.9"
  }
 },
 "nbformat": 4,
 "nbformat_minor": 4
}
