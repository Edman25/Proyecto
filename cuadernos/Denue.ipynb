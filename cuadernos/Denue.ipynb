{
 "cells": [
  {
   "cell_type": "markdown",
   "metadata": {},
   "source": [
    "# Denue y hospitales"
   ]
  },
  {
   "cell_type": "code",
   "execution_count": 1,
   "metadata": {},
   "outputs": [],
   "source": [
    "import pandas as pd\n",
    "import geopandas as gpd\n",
    "import numpy as np\n",
    "import json\n",
    "import folium\n",
    "import vaex as vx\n",
    "import csv"
   ]
  },
  {
   "cell_type": "code",
   "execution_count": 26,
   "metadata": {},
   "outputs": [
    {
     "name": "stderr",
     "output_type": "stream",
     "text": [
      "/home/edman/.local/lib/python3.6/site-packages/IPython/core/interactiveshell.py:3063: DtypeWarning: Columns (33,34) have mixed types.Specify dtype option on import or set low_memory=False.\n",
      "  interactivity=interactivity, compiler=compiler, result=result)\n",
      "/home/edman/.local/lib/python3.6/site-packages/ipykernel_launcher.py:5: SettingWithCopyWarning: \n",
      "A value is trying to be set on a copy of a slice from a DataFrame.\n",
      "Try using .loc[row_indexer,col_indexer] = value instead\n",
      "\n",
      "See the caveats in the documentation: https://pandas.pydata.org/pandas-docs/stable/user_guide/indexing.html#returning-a-view-versus-a-copy\n",
      "  \"\"\"\n",
      "/home/edman/.local/lib/python3.6/site-packages/ipykernel_launcher.py:6: SettingWithCopyWarning: \n",
      "A value is trying to be set on a copy of a slice from a DataFrame.\n",
      "Try using .loc[row_indexer,col_indexer] = value instead\n",
      "\n",
      "See the caveats in the documentation: https://pandas.pydata.org/pandas-docs/stable/user_guide/indexing.html#returning-a-view-versus-a-copy\n",
      "  \n",
      "/home/edman/.local/lib/python3.6/site-packages/ipykernel_launcher.py:7: SettingWithCopyWarning: \n",
      "A value is trying to be set on a copy of a slice from a DataFrame.\n",
      "Try using .loc[row_indexer,col_indexer] = value instead\n",
      "\n",
      "See the caveats in the documentation: https://pandas.pydata.org/pandas-docs/stable/user_guide/indexing.html#returning-a-view-versus-a-copy\n",
      "  import sys\n",
      "/home/edman/.local/lib/python3.6/site-packages/pyproj/crs/crs.py:53: FutureWarning: '+init=<authority>:<code>' syntax is deprecated. '<authority>:<code>' is the preferred initialization method. When making the change, be mindful of axis order changes: https://pyproj4.github.io/pyproj/stable/gotchas.html#axis-order-changes-in-proj-6\n",
      "  return _prepare_from_string(\" \".join(pjargs))\n"
     ]
    }
   ],
   "source": [
    "with open(\"INEGI/Denue_covid/actividades_no_esenciales_01_14.csv\",encoding='UTF-16') as f:\n",
    "    df = pd.read_csv(f)\n",
    "temp_no_esen = df[(df.cve_ent == 9)]\n",
    "denue_no_esen = temp_no_esen[['nom_estab', 'codigo_act', 'nombre_act', 'cve_ent','cve_mun', 'cve_loc','ageb','latitud','longitud', 'es_esencial']]\n",
    "denue_no_esen['nom_estab'] = denue_no_esen['nom_estab'].astype(str)\n",
    "denue_no_esen['nombre_act'] = denue_no_esen['nombre_act'].astype(str)\n",
    "denue_no_esen['ageb'] = denue_no_esen['ageb'].astype(str)\n",
    "\n",
    "gdf_no_esen = gpd.GeoDataFrame(denue_no_esen, geometry=gpd.points_from_xy(denue_no_esen.longitud, denue_no_esen.latitud))\n",
    "gdf_no_esen.crs = {'init' :'epsg:4326'}\n",
    "gdf_no_esen.to_file(\"denue_no_esen.json\", driver=\"GeoJSON\")\n"
   ]
  },
  {
   "cell_type": "code",
   "execution_count": 27,
   "metadata": {},
   "outputs": [
    {
     "name": "stderr",
     "output_type": "stream",
     "text": [
      "b'Skipping line 717256: expected 42 fields, saw 45\\n'\n",
      "b'Skipping line 857336: expected 42 fields, saw 44\\nSkipping line 857337: expected 42 fields, saw 44\\n'\n",
      "/home/edman/.local/lib/python3.6/site-packages/IPython/core/interactiveshell.py:3063: DtypeWarning: Columns (14,26,28,30,33,34,39) have mixed types.Specify dtype option on import or set low_memory=False.\n",
      "  interactivity=interactivity, compiler=compiler, result=result)\n",
      "/home/edman/.local/lib/python3.6/site-packages/ipykernel_launcher.py:6: SettingWithCopyWarning: \n",
      "A value is trying to be set on a copy of a slice from a DataFrame.\n",
      "Try using .loc[row_indexer,col_indexer] = value instead\n",
      "\n",
      "See the caveats in the documentation: https://pandas.pydata.org/pandas-docs/stable/user_guide/indexing.html#returning-a-view-versus-a-copy\n",
      "  \n",
      "/home/edman/.local/lib/python3.6/site-packages/ipykernel_launcher.py:7: SettingWithCopyWarning: \n",
      "A value is trying to be set on a copy of a slice from a DataFrame.\n",
      "Try using .loc[row_indexer,col_indexer] = value instead\n",
      "\n",
      "See the caveats in the documentation: https://pandas.pydata.org/pandas-docs/stable/user_guide/indexing.html#returning-a-view-versus-a-copy\n",
      "  import sys\n",
      "/home/edman/.local/lib/python3.6/site-packages/ipykernel_launcher.py:8: SettingWithCopyWarning: \n",
      "A value is trying to be set on a copy of a slice from a DataFrame.\n",
      "Try using .loc[row_indexer,col_indexer] = value instead\n",
      "\n",
      "See the caveats in the documentation: https://pandas.pydata.org/pandas-docs/stable/user_guide/indexing.html#returning-a-view-versus-a-copy\n",
      "  \n"
     ]
    }
   ],
   "source": [
    "with open(\"INEGI/Denue_covid/actividades_esenciales_01_14.csv\",encoding='UTF-16') as f:\n",
    "    df = pd.read_csv(f, error_bad_lines=False)\n",
    "temp_esen = df[(df.cve_ent == 9)]\n",
    "denue_esen = temp_esen[['nom_estab', 'codigo_act', 'nombre_act', 'cve_ent','cve_mun', 'cve_loc','ageb','latitud','longitud', 'es_esencial']]\n",
    "\n",
    "denue_esen['nom_estab'] = denue_esen['nom_estab'].astype(str)\n",
    "denue_esen['nombre_act'] = denue_esen['nombre_act'].astype(str)\n",
    "denue_esen['ageb'] = denue_esen['ageb'].astype(str)\n",
    "\n",
    "gdf_esen = gpd.GeoDataFrame(denue_esen, geometry=gpd.points_from_xy(denue_esen.longitud, denue_esen.latitud))\n",
    "gdf_esen.crs = {'init' :'epsg:4326'}\n",
    "gdf_esen.to_file(\"denue_esen.json\", driver=\"GeoJSON\")"
   ]
  },
  {
   "cell_type": "code",
   "execution_count": 28,
   "metadata": {},
   "outputs": [
    {
     "name": "stderr",
     "output_type": "stream",
     "text": [
      "ERROR:MainThread:fiona._env:denue.json: No such file or directory\n",
      "WARNING:MainThread:fiona._env:driver GeoJSON does not support creation option ENCODING\n"
     ]
    }
   ],
   "source": [
    "esen = gpd.read_file('denue_esen.json')\n",
    "no_esen = gpd.read_file('denue_no_esen.json')\n",
    "\n",
    "denue = esen.append(no_esen, ignore_index = True) \n",
    "\n",
    "denue['cve_ent'] = denue['cve_ent'].astype(np.int64)\n",
    "denue['cve_mun'] = denue['cve_mun'].astype(np.int64)\n",
    "denue['cve_loc'] = denue['cve_loc'].astype(np.int64)\n",
    "denue['ageb'] = denue['ageb'].astype(str)\n",
    "denue['longitud'] = denue['longitud'].astype(np.float64)\n",
    "denue.crs = {'init' :'epsg:4326'}\n",
    "denue.to_file(\"denue.json\", driver=\"GeoJSON\")\n"
   ]
  },
  {
   "cell_type": "code",
   "execution_count": 2,
   "metadata": {},
   "outputs": [],
   "source": [
    "zonas_cdmx = gpd.read_file('zonas_cdmx.json')\n",
    "denue = gpd.read_file('denue.json')\n"
   ]
  },
  {
   "cell_type": "code",
   "execution_count": 3,
   "metadata": {},
   "outputs": [
    {
     "name": "stderr",
     "output_type": "stream",
     "text": [
      "/home/edman/.local/lib/python3.6/site-packages/pyproj/crs/crs.py:53: FutureWarning: '+init=<authority>:<code>' syntax is deprecated. '<authority>:<code>' is the preferred initialization method. When making the change, be mindful of axis order changes: https://pyproj4.github.io/pyproj/stable/gotchas.html#axis-order-changes-in-proj-6\n",
      "  return _prepare_from_string(\" \".join(pjargs))\n"
     ]
    }
   ],
   "source": [
    "denue_coord = gpd.GeoDataFrame(denue, geometry=gpd.points_from_xy(denue.longitud, denue.latitud))\n",
    "denue_coord.crs = {'init' :'epsg:4326'}\n",
    "denue_coord_no_esen = denue_coord[(denue_coord.es_esencial == 0)]\n",
    "denue_coord_esen = denue_coord[(denue_coord.es_esencial == 1)]\n"
   ]
  },
  {
   "cell_type": "code",
   "execution_count": 4,
   "metadata": {},
   "outputs": [
    {
     "name": "stderr",
     "output_type": "stream",
     "text": [
      "/home/edman/.local/lib/python3.6/site-packages/geopandas/tools/sjoin.py:61: UserWarning: CRS of frames being joined does not match!(+init=epsg:4326 +type=crs != epsg:4326)\n",
      "  \"(%s != %s)\" % (left_df.crs, right_df.crs)\n"
     ]
    }
   ],
   "source": [
    "#COnteo denue no esen\n",
    "\n",
    "sjoined_denue_no_esen = gpd.sjoin(denue_coord_no_esen, zonas_cdmx, op='within')\n",
    "\n",
    "grouped_denue_no_esen = sjoined_denue_no_esen.groupby('CVE_AGEB').size()\n",
    "df_denue_no_esen = grouped_denue_no_esen.to_frame().reset_index()\n",
    "df_denue_no_esen.columns = ['CVE_AGEB', 'no_esen_count']\n",
    "\n",
    "merged_no_esen = zonas_cdmx.merge(df_denue_no_esen, on='CVE_AGEB', how='outer')\n",
    "\n",
    "merged_no_esen.to_file(\"denue_no_esen.json\", driver=\"GeoJSON\")"
   ]
  },
  {
   "cell_type": "code",
   "execution_count": 5,
   "metadata": {},
   "outputs": [
    {
     "name": "stderr",
     "output_type": "stream",
     "text": [
      "/home/edman/.local/lib/python3.6/site-packages/geopandas/tools/sjoin.py:61: UserWarning: CRS of frames being joined does not match!(+init=epsg:4326 +type=crs != epsg:4326)\n",
      "  \"(%s != %s)\" % (left_df.crs, right_df.crs)\n"
     ]
    }
   ],
   "source": [
    "#COnteo denue esen\n",
    "\n",
    "sjoined_denue_esen = gpd.sjoin(denue_coord_esen, zonas_cdmx, op='within')\n",
    "\n",
    "grouped_denue_esen = sjoined_denue_esen.groupby('CVE_AGEB').size()\n",
    "df_denue_esen = grouped_denue_esen.to_frame().reset_index()\n",
    "df_denue_esen.columns = ['CVE_AGEB', 'esen_count']\n",
    "\n",
    "merged_esen = zonas_cdmx.merge(df_denue_esen, on='CVE_AGEB', how='outer')\n",
    "\n",
    "merged_esen.to_file(\"denue_esen.json\", driver=\"GeoJSON\")"
   ]
  },
  {
   "cell_type": "code",
   "execution_count": 29,
   "metadata": {},
   "outputs": [],
   "source": [
    "denue_restaurantes = denue[(denue.codigo_act == 722511) | (denue.codigo_act == 722512) | (denue.codigo_act == 722513) |(denue.codigo_act == 722514) |(denue.codigo_act == 722516) |(denue.codigo_act == 722517) |(denue.codigo_act == 722518)]\n",
    "denue_restaurantes.crs = {'init' :'epsg:4326'}\n",
    "denue_restaurantes.to_file(\"denue_restaurantes.json\", driver=\"GeoJSON\")"
   ]
  },
  {
   "cell_type": "code",
   "execution_count": 7,
   "metadata": {},
   "outputs": [
    {
     "name": "stderr",
     "output_type": "stream",
     "text": [
      "WARNING:MainThread:fiona.ogrext:Skipping field geopoint: invalid type 3\n"
     ]
    }
   ],
   "source": [
    "gdf_hosp = gpd.read_file('Hospitales/hospitales-y-centros-de-salud.geojson')\n",
    "gdf_hosp.crs = {'init' :'epsg:4326'}\n",
    "gdf_hosp.to_file(\"hospitales.json\", driver=\"GeoJSON\")"
   ]
  }
 ],
 "metadata": {
  "kernelspec": {
   "display_name": "Python 3",
   "language": "python",
   "name": "python3"
  },
  "language_info": {
   "codemirror_mode": {
    "name": "ipython",
    "version": 3
   },
   "file_extension": ".py",
   "mimetype": "text/x-python",
   "name": "python",
   "nbconvert_exporter": "python",
   "pygments_lexer": "ipython3",
   "version": "3.6.9"
  }
 },
 "nbformat": 4,
 "nbformat_minor": 4
}
